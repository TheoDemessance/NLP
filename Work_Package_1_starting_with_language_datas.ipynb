{
  "nbformat": 4,
  "nbformat_minor": 0,
  "metadata": {
    "colab": {
      "name": "Work Package 1 : starting with language datas.ipynb",
      "provenance": [],
      "collapsed_sections": [],
      "toc_visible": true,
      "authorship_tag": "ABX9TyOJrNQhBpHlde5yrcfuoy6U"
    },
    "kernelspec": {
      "name": "python3",
      "display_name": "Python 3"
    }
  },
  "cells": [
    {
      "cell_type": "markdown",
      "metadata": {
        "id": "-UNs1FG8sJsY",
        "colab_type": "text"
      },
      "source": [
        "# TOKENIZATION\n"
      ]
    },
    {
      "cell_type": "markdown",
      "metadata": {
        "id": "NXjUmY083noR",
        "colab_type": "text"
      },
      "source": [
        "To perform <b> tokenization </b>, we can import the sentence tokenization function. The argument of this\n",
        "function will be text that needs to be tokenized. The sent_tokenize function uses an instance of\n",
        "NLTK known as PunktSentenceTokenizer . This instance of NLTK has already been trained to\n",
        "perform tokenization on different European languages on the basis of letters or punctuation that\n",
        "mark the beginning and end of sentences."
      ]
    },
    {
      "cell_type": "markdown",
      "metadata": {
        "id": "wRW2EDRiuc_6",
        "colab_type": "text"
      },
      "source": [
        "## Tokenization in English\n"
      ]
    },
    {
      "cell_type": "code",
      "metadata": {
        "id": "Hj431YGOr5Xv",
        "colab_type": "code",
        "colab": {
          "base_uri": "https://localhost:8080/",
          "height": 54
        },
        "outputId": "017aca05-a79a-462f-82e2-19996bc166fd"
      },
      "source": [
        "import nltk \n",
        "nltk.download('punkt')\n",
        "tokenizer=nltk.data.load('tokenizers/punkt/english.pickle')"
      ],
      "execution_count": null,
      "outputs": [
        {
          "output_type": "stream",
          "text": [
            "[nltk_data] Downloading package punkt to /root/nltk_data...\n",
            "[nltk_data]   Package punkt is already up-to-date!\n"
          ],
          "name": "stdout"
        }
      ]
    },
    {
      "cell_type": "code",
      "metadata": {
        "id": "7dTeHFLIsbfU",
        "colab_type": "code",
        "colab": {
          "base_uri": "https://localhost:8080/",
          "height": 72
        },
        "outputId": "aa43019b-d9a3-4fcc-da6a-e6ea49948bca"
      },
      "source": [
        "text=\" Hello everyone. Hope all are fine and doing well. Hope you find the book interesting\"\n",
        "tokenizer.tokenize(text)"
      ],
      "execution_count": null,
      "outputs": [
        {
          "output_type": "execute_result",
          "data": {
            "text/plain": [
              "[' Hello everyone.',\n",
              " 'Hope all are fine and doing well.',\n",
              " 'Hope you find the book interesting']"
            ]
          },
          "metadata": {
            "tags": []
          },
          "execution_count": 9
        }
      ]
    },
    {
      "cell_type": "markdown",
      "metadata": {
        "id": "Pr-MIOGLumLo",
        "colab_type": "text"
      },
      "source": [
        "## Tokenization in others languages (French)\n"
      ]
    },
    {
      "cell_type": "markdown",
      "metadata": {
        "id": "1zYa89mY3vlW",
        "colab_type": "text"
      },
      "source": [
        "For performing tokenization in languages other than English, <b> we can load the respective language\n",
        "pickle file found </b> in tokenizers/punkt and then tokenize the text in another language, which is an\n",
        "argument of the tokenize() function. <br> <br> For the tokenization of French text, we will use the\n",
        "french.pickle file as follows:"
      ]
    },
    {
      "cell_type": "code",
      "metadata": {
        "id": "HoVqmVhgthH3",
        "colab_type": "code",
        "colab": {
          "base_uri": "https://localhost:8080/",
          "height": 110
        },
        "outputId": "0653b96a-9096-4373-b909-61daa398ba99"
      },
      "source": [
        "french_tokenizer = nltk.data.load('tokenizers/punkt/french.pickle')\n",
        "french_tokenizer.tokenize(\"Deux agressions en quelques jours, voilà ce qui a motivé hier matin le débrayage collège franco-britanniquedeLevallois-Perret. Deux agressions en quelques jours, voilà ce qui a motivé hier matin le débrayage Levallois. L'équipe pédagogique de ce collège de 750 élèves avait déjà été choquée par l'agression, janvier , d'un professeur d'histoire. L'équipe pédagogique de ce collège de 750 élèves avait déjà été choquée par l'agression, mercredi , d'un professeur d'histoire\")"
      ],
      "execution_count": null,
      "outputs": [
        {
          "output_type": "execute_result",
          "data": {
            "text/plain": [
              "['Deux agressions en quelques jours, voilà ce qui a motivé hier matin le débrayage collège franco-britanniquedeLevallois-Perret.',\n",
              " 'Deux agressions en quelques jours, voilà ce qui a motivé hier matin le débrayage Levallois.',\n",
              " \"L'équipe pédagogique de ce collège de 750 élèves avait déjà été choquée par l'agression, janvier , d'un professeur d'histoire.\",\n",
              " \"L'équipe pédagogique de ce collège de 750 élèves avait déjà été choquée par l'agression, mercredi , d'un professeur d'histoire\"]"
            ]
          },
          "metadata": {
            "tags": []
          },
          "execution_count": 12
        }
      ]
    },
    {
      "cell_type": "markdown",
      "metadata": {
        "id": "aGAXIBAUvMXS",
        "colab_type": "text"
      },
      "source": [
        "## Word tokenization"
      ]
    },
    {
      "cell_type": "markdown",
      "metadata": {
        "id": "2XUHllru3-nC",
        "colab_type": "text"
      },
      "source": [
        "Now, we'll perform processing on individual sentences. Individual sentences are tokenized into\n",
        "words. Word tokenization is performed using a <b> word_tokenize() </b> function. The word_tokenize\n",
        "function uses an instance of NLTK known as TreebankWordTokenizer to perform word\n",
        "tokenization."
      ]
    },
    {
      "cell_type": "markdown",
      "metadata": {
        "id": "6audDtp24Qgl",
        "colab_type": "text"
      },
      "source": [
        "TreebankWordTokenizer uses conventions according to Penn Treebank Corpus. It works by\n",
        "separating contractions. This is shown here:"
      ]
    },
    {
      "cell_type": "code",
      "metadata": {
        "id": "wEUoAcjpuy1r",
        "colab_type": "code",
        "colab": {
          "base_uri": "https://localhost:8080/",
          "height": 54
        },
        "outputId": "ff4d414f-fe9d-455c-d7cf-c190d29d210b"
      },
      "source": [
        "from nltk.tokenize import TreebankWordTokenizer\n",
        "tokenizer = TreebankWordTokenizer()\n",
        "print(tokenizer.tokenize(\"Have a nice day. I hope you find the book interesting\"))\n",
        "print(nltk.tokenize.word_tokenize(\"Have a nice day. I hope you find the book interesting\"))"
      ],
      "execution_count": null,
      "outputs": [
        {
          "output_type": "stream",
          "text": [
            "['Have', 'a', 'nice', 'day.', 'I', 'hope', 'you', 'find', 'the', 'book', 'interesting']\n",
            "['Have', 'a', 'nice', 'day', '.', 'I', 'hope', 'you', 'find', 'the', 'book', 'interesting']\n"
          ],
          "name": "stdout"
        }
      ]
    },
    {
      "cell_type": "markdown",
      "metadata": {
        "id": "qS0MOxDOvavo",
        "colab_type": "text"
      },
      "source": [
        "## Punctuation tokenization"
      ]
    },
    {
      "cell_type": "markdown",
      "metadata": {
        "id": "8EqkRvHC4WPm",
        "colab_type": "text"
      },
      "source": [
        "Another word tokenizer is <b> PunktWordTokenizer</b>. It works by splitting punctuation; each word is\n",
        "kept instead of creating an entirely new token. Another word tokenizer is <b> WordPunctTokenizer </b> . It\n",
        "provides splitting by making punctuation an entirely new token. This type of splitting is usually\n",
        "desirable:"
      ]
    },
    {
      "cell_type": "code",
      "metadata": {
        "id": "Qq7uFcc7vUfd",
        "colab_type": "code",
        "colab": {
          "base_uri": "https://localhost:8080/",
          "height": 35
        },
        "outputId": "85a4ef31-ed65-4731-8483-9a2474724dde"
      },
      "source": [
        "tokenizer= nltk.tokenize.WordPunctTokenizer()\n",
        "tokenizer.tokenize(\" Don't hesitate to ask questions\")"
      ],
      "execution_count": null,
      "outputs": [
        {
          "output_type": "execute_result",
          "data": {
            "text/plain": [
              "['Don', \"'\", 't', 'hesitate', 'to', 'ask', 'questions']"
            ]
          },
          "metadata": {
            "tags": []
          },
          "execution_count": 18
        }
      ]
    },
    {
      "cell_type": "markdown",
      "metadata": {
        "id": "IVwtaRYQvhQc",
        "colab_type": "text"
      },
      "source": [
        "## Regex tokenization"
      ]
    },
    {
      "cell_type": "markdown",
      "metadata": {
        "id": "CbMdcqfB46Rw",
        "colab_type": "text"
      },
      "source": [
        "The tokenization of words can be performed by constructing regular expressions in these two ways: <br> \n",
        "• By matching with words <br>\n",
        "• By matching spaces or gaps <br> <br>\n",
        "We can import RegexpTokenizer from NLTK. We can create a Regular Expression that can match\n",
        "the tokens present in the text:"
      ]
    },
    {
      "cell_type": "code",
      "metadata": {
        "id": "v5YmKeEtvjOD",
        "colab_type": "code",
        "colab": {
          "base_uri": "https://localhost:8080/",
          "height": 35
        },
        "outputId": "1a15c19f-f6d1-4112-86f8-472f7e65b6eb"
      },
      "source": [
        "sent=\"Don't hesitate to ask questions\"\n",
        "print(nltk.tokenize.regexp_tokenize(sent, pattern='\\w+|\\$[\\d\\.]+|\\S+'))"
      ],
      "execution_count": null,
      "outputs": [
        {
          "output_type": "stream",
          "text": [
            "['Don', \"'t\", 'hesitate', 'to', 'ask', 'questions']\n"
          ],
          "name": "stdout"
        }
      ]
    },
    {
      "cell_type": "markdown",
      "metadata": {
        "id": "23k79vrC5HbO",
        "colab_type": "text"
      },
      "source": [
        "Instead of instantiating class, an alternative way of tokenization would be to use this function:"
      ]
    },
    {
      "cell_type": "code",
      "metadata": {
        "id": "Y47bOgj55IJr",
        "colab_type": "code",
        "colab": {
          "base_uri": "https://localhost:8080/",
          "height": 35
        },
        "outputId": "da998a12-8c6e-4ad3-d733-13b0ad908d46"
      },
      "source": [
        "from nltk.tokenize import regexp_tokenize\n",
        "sent=\"Don't hesitate to ask questions\"\n",
        "print(regexp_tokenize(sent, pattern='\\w+|\\$[\\d\\.]+|\\S+'))"
      ],
      "execution_count": null,
      "outputs": [
        {
          "output_type": "stream",
          "text": [
            "['Don', \"'t\", 'hesitate', 'to', 'ask', 'questions']\n"
          ],
          "name": "stdout"
        }
      ]
    },
    {
      "cell_type": "markdown",
      "metadata": {
        "id": "GL3UlRPAwbKZ",
        "colab_type": "text"
      },
      "source": [
        "## Convertion from lower to upper and vice-versa"
      ]
    },
    {
      "cell_type": "code",
      "metadata": {
        "id": "8M6zFHhNwqhw",
        "colab_type": "code",
        "colab": {
          "base_uri": "https://localhost:8080/",
          "height": 54
        },
        "outputId": "c643c08b-8a26-4144-c14d-8e825fdefb3e"
      },
      "source": [
        "text = 'HARdWork IS KEy to SUCCESS'\n",
        "print(text.lower())\n",
        "print(text.upper())"
      ],
      "execution_count": null,
      "outputs": [
        {
          "output_type": "stream",
          "text": [
            "hardwork is key to success\n",
            "HARDWORK IS KEY TO SUCCESS\n"
          ],
          "name": "stdout"
        }
      ]
    },
    {
      "cell_type": "markdown",
      "metadata": {
        "id": "kbfNBiNixke7",
        "colab_type": "text"
      },
      "source": [
        "## Dealing with stop words"
      ]
    },
    {
      "cell_type": "markdown",
      "metadata": {
        "id": "5mFULFj45RDJ",
        "colab_type": "text"
      },
      "source": [
        "NLTK has a list of stop words for many languages. We need to unzip datafile so\n",
        "that the list of stop words can be accessed from nltk_data/corpora/stopwords/ :"
      ]
    },
    {
      "cell_type": "code",
      "metadata": {
        "id": "sh36o4_yxHxl",
        "colab_type": "code",
        "colab": {
          "base_uri": "https://localhost:8080/",
          "height": 72
        },
        "outputId": "a38131d8-78bc-4e03-dfd2-46d7be152e96"
      },
      "source": [
        "nltk.download('stopwords')\n",
        "stops=set(nltk.corpus.stopwords.words('english'))\n",
        "words=[\"Don't\", 'hesitate','to','ask','questions']\n",
        "[word for word in words if word not in stops]"
      ],
      "execution_count": null,
      "outputs": [
        {
          "output_type": "stream",
          "text": [
            "[nltk_data] Downloading package stopwords to /root/nltk_data...\n",
            "[nltk_data]   Package stopwords is already up-to-date!\n"
          ],
          "name": "stdout"
        },
        {
          "output_type": "execute_result",
          "data": {
            "text/plain": [
              "[\"Don't\", 'hesitate', 'ask', 'questions']"
            ]
          },
          "metadata": {
            "tags": []
          },
          "execution_count": 26
        }
      ]
    },
    {
      "cell_type": "markdown",
      "metadata": {
        "id": "UBxYT1hU5Xjb",
        "colab_type": "text"
      },
      "source": [
        "The instance of <b> nltk.corpus.reader.WordListCorpusReader </b> is a stopwords corpus. It has the <b> words() </b>\n",
        "function, whose argument is fileid . Here, it is English; this refers to all the stop words present in the\n",
        "English file. If the words() function has no argument, then it will refer to all the stop words of all\n",
        "the languages. Other languages in which stop word removal can be done, or the number of\n",
        "languages whose file of stop words is present in NLTK can be found using the fileids() function:"
      ]
    },
    {
      "cell_type": "code",
      "metadata": {
        "id": "9sVdPfnQxns0",
        "colab_type": "code",
        "colab": {
          "base_uri": "https://localhost:8080/",
          "height": 439
        },
        "outputId": "bbac4c5b-3ebb-4415-8ebe-d8b75b48c0aa"
      },
      "source": [
        "nltk.corpus.stopwords.fileids()"
      ],
      "execution_count": null,
      "outputs": [
        {
          "output_type": "execute_result",
          "data": {
            "text/plain": [
              "['arabic',\n",
              " 'azerbaijani',\n",
              " 'danish',\n",
              " 'dutch',\n",
              " 'english',\n",
              " 'finnish',\n",
              " 'french',\n",
              " 'german',\n",
              " 'greek',\n",
              " 'hungarian',\n",
              " 'indonesian',\n",
              " 'italian',\n",
              " 'kazakh',\n",
              " 'nepali',\n",
              " 'norwegian',\n",
              " 'portuguese',\n",
              " 'romanian',\n",
              " 'russian',\n",
              " 'slovene',\n",
              " 'spanish',\n",
              " 'swedish',\n",
              " 'tajik',\n",
              " 'turkish']"
            ]
          },
          "metadata": {
            "tags": []
          },
          "execution_count": 28
        }
      ]
    },
    {
      "cell_type": "markdown",
      "metadata": {
        "id": "EsVL4U74xzUj",
        "colab_type": "text"
      },
      "source": [
        "## Remplacement of text by another\n"
      ]
    },
    {
      "cell_type": "markdown",
      "metadata": {
        "id": "qeNXKlag7Zh1",
        "colab_type": "text"
      },
      "source": [
        "The function of RegexpReplacer.replace() is substituting every instance of a replacement pattern\n",
        "with its corresponding substitution pattern. Here, must've is replaced by must have and didn't is\n",
        "replaced by did not , since the replacement pattern in replacers.py has already been defined by tuple\n",
        "pairs, that is, <b>(r'(\\w+)\\'ve', '\\g<1> have') and (r'(\\w+)n\\'t', '\\g<1> not')</b> .\n",
        "We can not only perform the replacement of contractions; we can also substitute a token with any\n",
        "other token."
      ]
    },
    {
      "cell_type": "code",
      "metadata": {
        "id": "xW-nA2D96rPo",
        "colab_type": "code",
        "colab": {}
      },
      "source": [
        "import re\n",
        "\n",
        "replacement_patterns = [\n",
        "\t(r'won\\'t', 'will not'),\n",
        "\t(r'can\\'t', 'cannot'),\n",
        "\t(r'i\\'m', 'i am'),\n",
        "\t(r'ain\\'t', 'is not'),\n",
        "\t(r'(\\w+)\\'ll', '\\g<1> will'),\n",
        "\t(r'(\\w+)n\\'t', '\\g<1> not'),\n",
        "\t(r'(\\w+)\\'ve', '\\g<1> have'),\n",
        "\t(r'(\\w+)\\'s', '\\g<1> is'),\n",
        "\t(r'(\\w+)\\'re', '\\g<1> are'),\n",
        "\t(r'(\\w+)\\'d', '\\g<1> would'),\n",
        "]\n",
        "\n",
        "class RegexpReplacer(object):\n",
        "\tdef __init__(self, patterns=replacement_patterns):\n",
        "\t\tself.patterns = [(re.compile(regex), repl) for (regex, repl) in patterns]\n",
        "\t\n",
        "\tdef replace(self, text):\n",
        "\t\ts = text\n",
        "\t\t\n",
        "\t\tfor (pattern, repl) in self.patterns:\n",
        "\t\t\ts = re.sub(pattern, repl, s)\n",
        "\t\t\n",
        "\t\treturn s"
      ],
      "execution_count": null,
      "outputs": []
    },
    {
      "cell_type": "code",
      "metadata": {
        "id": "Xciftm5vx1r2",
        "colab_type": "code",
        "colab": {
          "base_uri": "https://localhost:8080/",
          "height": 36
        },
        "outputId": "cd1a93bf-9b4f-43ce-9a07-2097c094989d"
      },
      "source": [
        "replacer = RegexpReplacer()\n",
        "replacer.replace(text = \"Don't hesitate to ask questions\")"
      ],
      "execution_count": null,
      "outputs": [
        {
          "output_type": "execute_result",
          "data": {
            "application/vnd.google.colaboratory.intrinsic+json": {
              "type": "string"
            },
            "text/plain": [
              "'Do not hesitate to ask questions'"
            ]
          },
          "metadata": {
            "tags": []
          },
          "execution_count": 62
        }
      ]
    },
    {
      "cell_type": "markdown",
      "metadata": {
        "id": "2EAISpDFzr0X",
        "colab_type": "text"
      },
      "source": [
        "# LEMMATIZATION\n",
        "\n"
      ]
    },
    {
      "cell_type": "markdown",
      "metadata": {
        "id": "8ozUe-4p2yzj",
        "colab_type": "text"
      },
      "source": [
        "<b> Lemmatization </b> is the process in which we transform the word into a form with a different word\n",
        "category. The word formed after lemmatization is entirely different. The built-in <b> morphy() </b> function\n",
        "is used for lemmatization in WordNetLemmatizer. The inputted word is left unchanged if it is not\n",
        "found in WordNet. In the argument, <b> pos </b> refers to the part of speech category of the inputted word. <br> <br>\n",
        "Consider an example of lemmatization in NLTK:"
      ]
    },
    {
      "cell_type": "code",
      "metadata": {
        "id": "tyPON_pVztru",
        "colab_type": "code",
        "colab": {
          "base_uri": "https://localhost:8080/",
          "height": 127
        },
        "outputId": "f648dced-2f66-4fd5-ff84-b86099a149c2"
      },
      "source": [
        "from nltk.stem import WordNetLemmatizer\n",
        "nltk.download('wordnet')\n",
        "lemmatizer_output=WordNetLemmatizer()\n",
        "print(lemmatizer_output.lemmatize('working'))\n",
        "print(lemmatizer_output.lemmatize('working',pos='v'))\n",
        "print(lemmatizer_output.lemmatize('works'))"
      ],
      "execution_count": null,
      "outputs": [
        {
          "output_type": "stream",
          "text": [
            "[nltk_data] Downloading package wordnet to /root/nltk_data...\n",
            "[nltk_data]   Package wordnet is already up-to-date!\n",
            "working\n",
            "work\n",
            "work\n",
            "happiness\n"
          ],
          "name": "stdout"
        }
      ]
    },
    {
      "cell_type": "markdown",
      "metadata": {
        "id": "USegvRW43L0U",
        "colab_type": "text"
      },
      "source": [
        "The <b> WordNetLemmatizer </b> library may be defined as a wrapper around the so-called WordNet\n",
        "corpus, and it makes use of the <b> morphy() </b> function present in WordNetCorpusReader <b> to extract a\n",
        "lemma </b>. If no lemma is extracted, then the word is only returned in its original form. For example,\n",
        "for works , the lemma returned is the singular form, work. <br> <br> \n",
        "Let's consider the following code that illustrates the difference between stemming and\n",
        "lemmatization :"
      ]
    },
    {
      "cell_type": "code",
      "metadata": {
        "id": "5SFe8qs40UQa",
        "colab_type": "code",
        "colab": {
          "base_uri": "https://localhost:8080/",
          "height": 36
        },
        "outputId": "150623a5-9ad4-4b60-9a2b-ae07ff7ba1f0"
      },
      "source": [
        "stemmer_output = nltk.stem.PorterStemmer()\n",
        "stemmer_output.stem('happiness')"
      ],
      "execution_count": null,
      "outputs": [
        {
          "output_type": "execute_result",
          "data": {
            "application/vnd.google.colaboratory.intrinsic+json": {
              "type": "string"
            },
            "text/plain": [
              "'happi'"
            ]
          },
          "metadata": {
            "tags": []
          },
          "execution_count": 45
        }
      ]
    },
    {
      "cell_type": "markdown",
      "metadata": {
        "id": "P58VRNZT1mvN",
        "colab_type": "text"
      },
      "source": [
        "# SIMILARITY DISTANCE"
      ]
    },
    {
      "cell_type": "markdown",
      "metadata": {
        "id": "Yg6-XYqE2eMt",
        "colab_type": "text"
      },
      "source": [
        "Applying similarity measures using Jaccard's Coefficient.\n",
        "Jaccard's coefficient, or Tanimoto coefficient, may be defined as a measure of the overlap of two\n",
        "sets, X and Y. <br> <br>\n",
        "It may be defined as follows: <br>\n",
        "• Jaccard(X,Y)=|X∩Y|/|XUY| <br>\n",
        "• Jaccard(X,X)=1 <br>\n",
        "• Jaccard(X,Y)=0 if X∩Y=0 <br>"
      ]
    },
    {
      "cell_type": "code",
      "metadata": {
        "id": "aP1ekgVZ1qQT",
        "colab_type": "code",
        "colab": {
          "base_uri": "https://localhost:8080/",
          "height": 35
        },
        "outputId": "fe66ebea-a45c-4472-e262-3d221183f43f"
      },
      "source": [
        "from nltk.metrics import *\n",
        "edit_distance(\"relate\",\"relation\")"
      ],
      "execution_count": null,
      "outputs": [
        {
          "output_type": "execute_result",
          "data": {
            "text/plain": [
              "3"
            ]
          },
          "metadata": {
            "tags": []
          },
          "execution_count": 46
        }
      ]
    },
    {
      "cell_type": "code",
      "metadata": {
        "id": "GTyGLoYE1tcm",
        "colab_type": "code",
        "colab": {
          "base_uri": "https://localhost:8080/",
          "height": 35
        },
        "outputId": "6d3437f8-f1e7-4faf-8682-e428f06a4ab7"
      },
      "source": [
        "edit_distance(\"suggestion\",\"calculation\")"
      ],
      "execution_count": null,
      "outputs": [
        {
          "output_type": "execute_result",
          "data": {
            "text/plain": [
              "7"
            ]
          },
          "metadata": {
            "tags": []
          },
          "execution_count": 47
        }
      ]
    },
    {
      "cell_type": "code",
      "metadata": {
        "id": "VbPyOFac1-Hq",
        "colab_type": "code",
        "colab": {
          "base_uri": "https://localhost:8080/",
          "height": 35
        },
        "outputId": "1f2eb3c1-702e-4e9f-e07c-706ba6cacc9b"
      },
      "source": [
        "X=set([10, 20, 30, 40])\n",
        "Y=set([30, 60])\n",
        "print(jaccard_distance(X,Y))"
      ],
      "execution_count": null,
      "outputs": [
        {
          "output_type": "stream",
          "text": [
            "0.8\n"
          ],
          "name": "stdout"
        }
      ]
    },
    {
      "cell_type": "markdown",
      "metadata": {
        "id": "Ka5bL5es7jLg",
        "colab_type": "text"
      },
      "source": [
        "# EXPERIENCES"
      ]
    },
    {
      "cell_type": "markdown",
      "metadata": {
        "id": "fiIjkNSv7xpx",
        "colab_type": "text"
      },
      "source": [
        "The goal is to find the two nearest sentences (in a meaning/semantic way) in the articles on the\n",
        "same topic. The method used should also show a difference between the article on a different topic.\n",
        "The possible tools used to achieve this result are been presented the last session (tokenization,\n",
        "normalization, regular expressions, string distances). <br> <br>\n",
        "Verify if your 3 articles respect the Zipf’s law."
      ]
    },
    {
      "cell_type": "markdown",
      "metadata": {
        "id": "iVZPdov49VDl",
        "colab_type": "text"
      },
      "source": [
        "Articles selected from headlines of 16th September: <br>\n",
        "\n",
        "\n",
        "*   2 articles on the US Presidential election\n",
        "*   1 article on Apple One vs Androïd\n",
        "\n"
      ]
    },
    {
      "cell_type": "markdown",
      "metadata": {
        "id": "KyUnxiAj73i_",
        "colab_type": "text"
      },
      "source": [
        "## Nearest sentences on the 2 articles "
      ]
    },
    {
      "cell_type": "code",
      "metadata": {
        "id": "s8xtGKGtA09X",
        "colab_type": "code",
        "colab": {}
      },
      "source": [
        "#We open the txt file stored in sample_data and we read it as a string\n",
        "file = open(\"sample_data/US Presidential election\")\n",
        "article_one = file.read().replace(\"\\n\", \" \")\n",
        "file.close()\n",
        "\n",
        "\n",
        "file2 = open(\"sample_data/US Presidential election 2\")\n",
        "article_two = file2.read().replace(\"\\n\", \" \")\n",
        "file2.close()\n",
        "\n",
        "file3 = open(\"sample_data/Apple vs Android\")\n",
        "article_three = file3.read().replace(\"\\n\", \" \")\n",
        "file3.close()"
      ],
      "execution_count": null,
      "outputs": []
    },
    {
      "cell_type": "code",
      "metadata": {
        "id": "f8F3D3NVEFEa",
        "colab_type": "code",
        "colab": {
          "base_uri": "https://localhost:8080/",
          "height": 92
        },
        "outputId": "e17834a5-7a4c-4249-f9da-2c408b636c0d"
      },
      "source": [
        "print(article_one)\n",
        "print(article_two)\n",
        "print(article_three)"
      ],
      "execution_count": null,
      "outputs": [
        {
          "output_type": "stream",
          "text": [
            "À moins de 50 jours de l'élection présidentielle américaine, le candidat démocrate Joe Biden est toujours favori des sondages. Mais une étude inquiète son équipe de campagne. Ce sondage du Siena College, publié lundi 14 septembre par le New York Times, a été réalisé entre les 8 et 11 septembre dans quatre États-clés : Minnesota, Nevada, New Hampshire et Wisconsin. Dans chacun de ces États, Joe Biden est en tête devant Donald Trump, parfois très largement avec neuf points d'avance dans le Minnesota, parfois un peu moins avec trois points d'avance dans le New Hampshire. Cela confirme que dans ces quatre \"swing states\", le candidat démocrate est en avance sur son adversaire républicain. Mais il y a quelques motifs d'inquiétude pour l'équipe Biden. Trump, fort sur la sécurité et l'économie  Lorsqu'on examine ce sondage par thématiques, on se dit que Donald Trump est capable de prendre l'avantage, par exemple, sur la question de la loi et de l'ordre. C'est là que cette étude montre la vulnérabilité du candidat démocrate. Quand on demande \"À qui faites vous le plus confiance pour rétablir l'ordre?\", Joe Biden et Donald Trump sont quasi à égalité. Pareil pour celui qui serait le plus à même de lutter contre la criminalité. Sur l'économie, ces Américains sondés font plus confiance à Donald Trump qu'à Joe Biden : 50 contre 45.  Il y a d'autres enseignements à retenir de ce sondage : un gros déficit de Donald Trump sur l'électorat féminin , elles sont seulement 38% à lui faire confiance. Un gros déficit également pour Joe Biden, mais sur l'électorat rural : 40% seulement de soutien. Biden, le candidat des villes contre Trump, celui des campagnes. Si vous mettez tout cela bout à bout, cela devrait provoquer un peu d'inquiétude dans la campagne Biden. Pas le droit à l'erreur dans les swing states  C'est dans ces swing states, ces États-clés, que tout va se jouer le 3 novembre. Aux quatre cités précédemment s'ajoutent l'Arizona, où Donald Trump était lundi 14 septembre, et la Floride où Joe Biden est attendu mardi, à Tampa. Deux rendez-vous à l'agenda du candidat démocrate : les vétérans d'abord pour montrer son soutien aux militaires, puis la communauté hispanique, les Latinos, qui, en Floride, penchent d'ailleurs plutôt du côté de Trump. Cela va être très important pour Joe Biden s'il veut l'emporter le 3 novembre, d'aller décrocher aussi les voix de cette minorité hispanophone\n",
            "Joe Biden a courtisé les électeurs hispaniques mardi lors de son premier déplacement de l'année en Floride, déclarant que le président sortant Donald Trump les avait laissé tomber avec sa politique conflictuelle en matière d'immigration et sa réponse désastreuse à l'épidémie de coronavirus.  Le candidat démocrate, dont la cote de popularité auprès des électeurs hispaniques est en recul dans cet Etat décisif pour l'élection présidentielle du 3 novembre, a déclaré que son rival républicain avait prouvé qu'il ne pouvait être un dirigeant pour l'ensemble des Américains.  \"Donald Trump a failli à la communauté hispanique encore et encore\", a dit Joe Biden lors d'un événement à Kissimmee, coeur de la grandissante communauté portoricaine.  A moins de 50 jours du scrutin, Joe Biden tente d'apaiser les inquiétudes de la communauté hispanique alors que la campagne Trump a décrit l'ancien-vice président comme un socialiste.  Les enquêtes d'opinion en Floride placent le candidat démocrate légèrement devant ou au coude-à-coude avec le président sortant, loin du soutien dont disposait Hillary Clinton il y a quatre ans.  En 2016, Trump avait gagné la Floride avec seulement 1,2 point de pourcentage d'avance sur Clinton. Ce succès avait contribué à lui ouvrir les portes de la Maison blanche.  La visite de Joe Biden à Kissimmee, ville du centre de la Floride, illustre la volonté de son équipe de conquérir les électeurs portoricains, présents en nombre depuis que l'ouragan Maria a dévasté Porto Rico en 2017.  Biden a promis de supprimer nombre de mesures mises en place par l'administration Trump dans le cadre de sa ligne dure sur l'immigration et souligné la nécessité d'une stratégie générale de lutte contre l'épidémie de coronavirus, d'un point de vue sanitaire comme économique.  Des militants démocrates de Floride ont fait état d'une forte augmentation du nombre de vidéos et de commentaires circulant sur les réseaux sociaux ou échangés par texto et alimentant le \"procès en socialisme\" de Joe Biden et autres théories du complot visant le Parti démocrate.  \"Nous assistons à une campagne de désinformation massive en espagnol ciblant notre communauté, et cela porte ses fruits\", a dit Evelyn Perez-Verdia, spécialiste des élections et de la communication politique.  Dans le camp Trump, on sait l'importance de la Floride - depuis Calvin Coolidge en 1924, aucun candidat républicain n'a été élu à la présidence en ayant perdu le \"Sunshine State\". Le président sortant a du reste établi l'an dernier sa résidence permanente en Floride. \n",
            "Ce mardi, lors de l'événement \"Time Flies\", Apple devrait annoncer le lancement de nouvelles itérations de son Apple Watch, mais également possiblement de ses iPad Air et iPad Mini. Si le géant américain ne devrait pas livrer beaucoup d'informations sur ses futurs iPhone (qui pourraient faire l'objet d'une présentation dédiée en octobre prochain), il pourrait toutefois lever le voile sur Apple One (lire : Apple regroupe ses services avec Apple One et dévoile Apple Fitness Plus), un service – ou plutôt un ensemble de services – qui pourrait faire beaucoup de mal à Android, l'OS mobile concurrent direct d'iOS.  Apple propose actuellement huit services dans le cadre de son portefeuille – iTunes, Music, iCloud, TV Plus, Arcade, Books, News Plus et Apple Card. Si vous achetiez tous ces services à la carte, vous dépenseriez probablement entre 25 et 40 dollars par mois pour les seuls services, sans même compter les achats in-app qui pourraient facilement s'élever à 50 ou 100– dollars supplémentaires, selon vos habitudes de consommation.  Quels services seront inclus et combien coûtera Apple One ? Personne ne le sait. Quand exactement apparaîtra-t-il ? On ne le sait pas non plus. Cependant, étant donné l'apparition du produit dans un code d'application récent, il est probable qu'Apple One sera introduit avec le lancement des nouveaux iPhone et du nouvel appareil Apple TV. Mais pour que cette offre groupée de services soit populaire, le prix devra être attractif. Très attractif.  Les services, un levier de croissance pour Apple  Le marché des services est en effet l'un des rares sur lesquels Apple peut potentiellement se développer et faire gonfler son portefeuille de nouveaux clients, en particulier aujourd'hui, alors que les différentes mesures de confinement décrétées dans le cadre de la crise sanitaire actuelle rendent les services mobiles de plus en plus attractifs pour le grand public.  Il faut dire que les ventes des produits traditionnels d'Apple, tels que l'iPhone et l'iPad marquent le pas. Il sera donc essentiel, pour le lancement d'Apple One, non seulement d'acquérir de nouveaux clients en rendant les prix très attractifs, mais aussi de conserver ces clients – de manière permanente.  Pour ce faire, la firme californienne pourrait être tentée de casser les prix en proposant un abonnement à moins de 25 euros, pour 2 To de stockage, un grand nombre de titres Apple Books gratuits (à la manière de \"Kindle Unlimited\"), et une quantité généreuse de contenu vidéo sur iTunes (comme Amazon Prime Video). Cela rendrait certainement la transition vers ce modèle presque évidente pour les clients actuels des services d'Apple. Cela ne suffira toutefois pas forcément à détourner les clients des autres plateformes, en particulier Android et Google Services.  La gratuité comme réponse ?  Pour permettre à Apple One de perturber complètement la concurrence, la société doit prendre des mesures drastiques. Comment ? En proposant ce service gratuitement. Et si Apple offrait Apple One pendant un an, à tout client qui s'inscrit avec une carte Apple et achète un nouvel iPhone répondant aux critères de sélection ? Cela compenserait largement les éventuelles pertes de revenus liées au service en offrant gratuitement un niveau de services de base. L'entreprise a ensuite la possibilité de faire payer des primes, comme des films en première diffusion sur iTunes ou des niveaux de stockage dans le cloud plus élevés.  La clé du succès d'Apple One est donc de faire en sorte que les clients ne veuillent jamais partir, ou que les avantages du service groupé justifient de passer d'Android à iOS. C'est essentiellement le principe des systèmes de récompense existants comme Amazon Prime – les avantages sont si substantiels que chaque avantage est annoncé jusqu'à une valeur significative, de sorte que l'adhésion continue est assurée, tout comme la poursuite des achats sur Amazon.  Et comme Amazon avec Prime, Apple va devoir introduire plus de services pour adoucir continuellement les incitations. Quels types de services ? Par exemple, elle pourrait lancer un service cloud qui intègre Apple Watch, via la gamification de l'activité physique avec des amis, ou se lier à des prestataires et des praticiens de la santé pour une surveillance proactive de la santé. Plus l'entreprise proposera de services et plus la valeur des services sera démontrée, plus il sera logique de continuer à changer d'iPhone chaque année.\n"
          ],
          "name": "stdout"
        }
      ]
    },
    {
      "cell_type": "code",
      "metadata": {
        "id": "xDqk6cFaIRDj",
        "colab_type": "code",
        "colab": {
          "base_uri": "https://localhost:8080/",
          "height": 92
        },
        "outputId": "f2803081-c650-4879-8929-fdf462305f33"
      },
      "source": [
        "article_one_tk = french_tokenizer.tokenize(article_one)\n",
        "print(article_one_tk)\n",
        "article_two_tk = french_tokenizer.tokenize(article_two)\n",
        "print(article_two_tk)\n",
        "article_three_tk = french_tokenizer.tokenize(article_three)\n",
        "print(article_three_tk)"
      ],
      "execution_count": null,
      "outputs": [
        {
          "output_type": "stream",
          "text": [
            "[\"À moins de 50 jours de l'élection présidentielle américaine, le candidat démocrate Joe Biden est toujours favori des sondages.\", 'Mais une étude inquiète son équipe de campagne.', 'Ce sondage du Siena College, publié lundi 14 septembre par le New York Times, a été réalisé entre les 8 et 11 septembre dans quatre États-clés : Minnesota, Nevada, New Hampshire et Wisconsin.', \"Dans chacun de ces États, Joe Biden est en tête devant Donald Trump, parfois très largement avec neuf points d'avance dans le Minnesota, parfois un peu moins avec trois points d'avance dans le New Hampshire.\", 'Cela confirme que dans ces quatre \"swing states\", le candidat démocrate est en avance sur son adversaire républicain.', \"Mais il y a quelques motifs d'inquiétude pour l'équipe Biden.\", \"Trump, fort sur la sécurité et l'économie  Lorsqu'on examine ce sondage par thématiques, on se dit que Donald Trump est capable de prendre l'avantage, par exemple, sur la question de la loi et de l'ordre.\", \"C'est là que cette étude montre la vulnérabilité du candidat démocrate.\", 'Quand on demande \"À qui faites vous le plus confiance pour rétablir l\\'ordre?', '\", Joe Biden et Donald Trump sont quasi à égalité.', 'Pareil pour celui qui serait le plus à même de lutter contre la criminalité.', \"Sur l'économie, ces Américains sondés font plus confiance à Donald Trump qu'à Joe Biden : 50 contre 45.\", \"Il y a d'autres enseignements à retenir de ce sondage : un gros déficit de Donald Trump sur l'électorat féminin , elles sont seulement 38% à lui faire confiance.\", \"Un gros déficit également pour Joe Biden, mais sur l'électorat rural : 40% seulement de soutien.\", 'Biden, le candidat des villes contre Trump, celui des campagnes.', \"Si vous mettez tout cela bout à bout, cela devrait provoquer un peu d'inquiétude dans la campagne Biden.\", \"Pas le droit à l'erreur dans les swing states  C'est dans ces swing states, ces États-clés, que tout va se jouer le 3 novembre.\", \"Aux quatre cités précédemment s'ajoutent l'Arizona, où Donald Trump était lundi 14 septembre, et la Floride où Joe Biden est attendu mardi, à Tampa.\", \"Deux rendez-vous à l'agenda du candidat démocrate : les vétérans d'abord pour montrer son soutien aux militaires, puis la communauté hispanique, les Latinos, qui, en Floride, penchent d'ailleurs plutôt du côté de Trump.\", \"Cela va être très important pour Joe Biden s'il veut l'emporter le 3 novembre, d'aller décrocher aussi les voix de cette minorité hispanophone\"]\n",
            "[\"Joe Biden a courtisé les électeurs hispaniques mardi lors de son premier déplacement de l'année en Floride, déclarant que le président sortant Donald Trump les avait laissé tomber avec sa politique conflictuelle en matière d'immigration et sa réponse désastreuse à l'épidémie de coronavirus.\", \"Le candidat démocrate, dont la cote de popularité auprès des électeurs hispaniques est en recul dans cet Etat décisif pour l'élection présidentielle du 3 novembre, a déclaré que son rival républicain avait prouvé qu'il ne pouvait être un dirigeant pour l'ensemble des Américains.\", '\"Donald Trump a failli à la communauté hispanique encore et encore\", a dit Joe Biden lors d\\'un événement à Kissimmee, coeur de la grandissante communauté portoricaine.', \"A moins de 50 jours du scrutin, Joe Biden tente d'apaiser les inquiétudes de la communauté hispanique alors que la campagne Trump a décrit l'ancien-vice président comme un socialiste.\", \"Les enquêtes d'opinion en Floride placent le candidat démocrate légèrement devant ou au coude-à-coude avec le président sortant, loin du soutien dont disposait Hillary Clinton il y a quatre ans.\", \"En 2016, Trump avait gagné la Floride avec seulement 1,2 point de pourcentage d'avance sur Clinton.\", 'Ce succès avait contribué à lui ouvrir les portes de la Maison blanche.', \"La visite de Joe Biden à Kissimmee, ville du centre de la Floride, illustre la volonté de son équipe de conquérir les électeurs portoricains, présents en nombre depuis que l'ouragan Maria a dévasté Porto Rico en 2017.\", \"Biden a promis de supprimer nombre de mesures mises en place par l'administration Trump dans le cadre de sa ligne dure sur l'immigration et souligné la nécessité d'une stratégie générale de lutte contre l'épidémie de coronavirus, d'un point de vue sanitaire comme économique.\", 'Des militants démocrates de Floride ont fait état d\\'une forte augmentation du nombre de vidéos et de commentaires circulant sur les réseaux sociaux ou échangés par texto et alimentant le \"procès en socialisme\" de Joe Biden et autres théories du complot visant le Parti démocrate.', '\"Nous assistons à une campagne de désinformation massive en espagnol ciblant notre communauté, et cela porte ses fruits\", a dit Evelyn Perez-Verdia, spécialiste des élections et de la communication politique.', 'Dans le camp Trump, on sait l\\'importance de la Floride - depuis Calvin Coolidge en 1924, aucun candidat républicain n\\'a été élu à la présidence en ayant perdu le \"Sunshine State\".', \"Le président sortant a du reste établi l'an dernier sa résidence permanente en Floride.\"]\n",
            "['Ce mardi, lors de l\\'événement \"Time Flies\", Apple devrait annoncer le lancement de nouvelles itérations de son Apple Watch, mais également possiblement de ses iPad Air et iPad Mini.', \"Si le géant américain ne devrait pas livrer beaucoup d'informations sur ses futurs iPhone (qui pourraient faire l'objet d'une présentation dédiée en octobre prochain), il pourrait toutefois lever le voile sur Apple One (lire : Apple regroupe ses services avec Apple One et dévoile Apple Fitness Plus), un service – ou plutôt un ensemble de services – qui pourrait faire beaucoup de mal à Android, l'OS mobile concurrent direct d'iOS.\", 'Apple propose actuellement huit services dans le cadre de son portefeuille – iTunes, Music, iCloud, TV Plus, Arcade, Books, News Plus et Apple Card.', \"Si vous achetiez tous ces services à la carte, vous dépenseriez probablement entre 25 et 40 dollars par mois pour les seuls services, sans même compter les achats in-app qui pourraient facilement s'élever à 50 ou 100– dollars supplémentaires, selon vos habitudes de consommation.\", 'Quels services seront inclus et combien coûtera Apple One ?', 'Personne ne le sait.', 'Quand exactement apparaîtra-t-il ?', 'On ne le sait pas non plus.', \"Cependant, étant donné l'apparition du produit dans un code d'application récent, il est probable qu'Apple One sera introduit avec le lancement des nouveaux iPhone et du nouvel appareil Apple TV.\", 'Mais pour que cette offre groupée de services soit populaire, le prix devra être attractif.', 'Très attractif.', \"Les services, un levier de croissance pour Apple  Le marché des services est en effet l'un des rares sur lesquels Apple peut potentiellement se développer et faire gonfler son portefeuille de nouveaux clients, en particulier aujourd'hui, alors que les différentes mesures de confinement décrétées dans le cadre de la crise sanitaire actuelle rendent les services mobiles de plus en plus attractifs pour le grand public.\", \"Il faut dire que les ventes des produits traditionnels d'Apple, tels que l'iPhone et l'iPad marquent le pas.\", \"Il sera donc essentiel, pour le lancement d'Apple One, non seulement d'acquérir de nouveaux clients en rendant les prix très attractifs, mais aussi de conserver ces clients – de manière permanente.\", 'Pour ce faire, la firme californienne pourrait être tentée de casser les prix en proposant un abonnement à moins de 25 euros, pour 2 To de stockage, un grand nombre de titres Apple Books gratuits (à la manière de \"Kindle Unlimited\"), et une quantité généreuse de contenu vidéo sur iTunes (comme Amazon Prime Video).', \"Cela rendrait certainement la transition vers ce modèle presque évidente pour les clients actuels des services d'Apple.\", 'Cela ne suffira toutefois pas forcément à détourner les clients des autres plateformes, en particulier Android et Google Services.', 'La gratuité comme réponse ?', 'Pour permettre à Apple One de perturber complètement la concurrence, la société doit prendre des mesures drastiques.', 'Comment ?', 'En proposant ce service gratuitement.', \"Et si Apple offrait Apple One pendant un an, à tout client qui s'inscrit avec une carte Apple et achète un nouvel iPhone répondant aux critères de sélection ?\", 'Cela compenserait largement les éventuelles pertes de revenus liées au service en offrant gratuitement un niveau de services de base.', \"L'entreprise a ensuite la possibilité de faire payer des primes, comme des films en première diffusion sur iTunes ou des niveaux de stockage dans le cloud plus élevés.\", \"La clé du succès d'Apple One est donc de faire en sorte que les clients ne veuillent jamais partir, ou que les avantages du service groupé justifient de passer d'Android à iOS.\", \"C'est essentiellement le principe des systèmes de récompense existants comme Amazon Prime – les avantages sont si substantiels que chaque avantage est annoncé jusqu'à une valeur significative, de sorte que l'adhésion continue est assurée, tout comme la poursuite des achats sur Amazon.\", 'Et comme Amazon avec Prime, Apple va devoir introduire plus de services pour adoucir continuellement les incitations.', 'Quels types de services ?', \"Par exemple, elle pourrait lancer un service cloud qui intègre Apple Watch, via la gamification de l'activité physique avec des amis, ou se lier à des prestataires et des praticiens de la santé pour une surveillance proactive de la santé.\", \"Plus l'entreprise proposera de services et plus la valeur des services sera démontrée, plus il sera logique de continuer à changer d'iPhone chaque année.\"]\n"
          ],
          "name": "stdout"
        }
      ]
    },
    {
      "cell_type": "markdown",
      "metadata": {
        "id": "f0iaOKlaFofv",
        "colab_type": "text"
      },
      "source": [
        "We now have our 2 articles tokenized into sentences. But, we still have french patterns as \"C'est\" (\"It's\") that we need to replace in order to perform our lemmatization. \n"
      ]
    },
    {
      "cell_type": "code",
      "metadata": {
        "id": "Wc1CLDI1FnRS",
        "colab_type": "code",
        "colab": {}
      },
      "source": [
        "from nltk.tokenize import RegexpTokenizer\n",
        "tokenizer=RegexpTokenizer(\"[\\w]+\")\n",
        "\n",
        "def token_sentences_into_words(article):\n",
        "  result = []\n",
        "  for sentences in article:\n",
        "    sentences = sentences.lower()\n",
        "    result.append(tokenizer.tokenize(sentences))\n",
        "\n",
        "  return result\n",
        "  \n",
        "article_one_tk_words = token_sentences_into_words(article_one_tk)\n",
        "article_two_tk_words = token_sentences_into_words(article_two_tk)\n",
        "article_three_tk_words = token_sentences_into_words(article_three_tk)"
      ],
      "execution_count": null,
      "outputs": []
    },
    {
      "cell_type": "code",
      "metadata": {
        "id": "4Y193Sn-Jlx3",
        "colab_type": "code",
        "colab": {}
      },
      "source": [
        "from nltk.corpus import stopwords\n",
        "stops = set(stopwords.words('french'))"
      ],
      "execution_count": null,
      "outputs": []
    },
    {
      "cell_type": "markdown",
      "metadata": {
        "id": "ThfMzuxcU3ky",
        "colab_type": "text"
      },
      "source": [
        "We remove the stopwords"
      ]
    },
    {
      "cell_type": "code",
      "metadata": {
        "id": "8-Veqi2wJ4h6",
        "colab_type": "code",
        "colab": {}
      },
      "source": [
        "def remove_stopwords(article):\n",
        "  result = []\n",
        "  for sentence in article:\n",
        "    result.append([word for word in sentence if word not in stops])\n",
        "\n",
        "  return result"
      ],
      "execution_count": null,
      "outputs": []
    },
    {
      "cell_type": "code",
      "metadata": {
        "id": "G372_7R6KmdB",
        "colab_type": "code",
        "colab": {}
      },
      "source": [
        "article_one_tk_words_stop = remove_stopwords(article_one_tk_words)\n",
        "article_two_tk_words_stop = remove_stopwords(article_two_tk_words)\n",
        "article_three_tk_words_stop = remove_stopwords(article_three_tk_words)"
      ],
      "execution_count": null,
      "outputs": []
    },
    {
      "cell_type": "markdown",
      "metadata": {
        "id": "YRQewWO6U6Im",
        "colab_type": "text"
      },
      "source": [
        "We then compute the jaccard distance between all the sentences of the 2 articles and we return the first one, i.e. the one with the less difference"
      ]
    },
    {
      "cell_type": "code",
      "metadata": {
        "id": "7SbFH2zyPZ6j",
        "colab_type": "code",
        "colab": {}
      },
      "source": [
        "def similarity_doc(doc1, doc2):\n",
        "  distance = []\n",
        "  for sentence_i in doc1:\n",
        "    for sentence_j in doc2:\n",
        "      distance.append(tuple([sentence_i, sentence_j, jaccard_distance(set(sentence_i), set(sentence_j))]))\n",
        "\n",
        "  return sorted(distance, key=lambda tup: tup[2])[0]"
      ],
      "execution_count": null,
      "outputs": []
    },
    {
      "cell_type": "code",
      "metadata": {
        "id": "dVTsgfwXQWyi",
        "colab_type": "code",
        "colab": {
          "base_uri": "https://localhost:8080/",
          "height": 403
        },
        "outputId": "1f28798e-2172-44c4-e5e0-05337a050f73"
      },
      "source": [
        "similarity_doc(article_one_tk_words_stop, article_two_tk_words_stop)"
      ],
      "execution_count": null,
      "outputs": [
        {
          "output_type": "execute_result",
          "data": {
            "text/plain": [
              "(['joe', 'biden', 'donald', 'trump', 'quasi', 'égalité'],\n",
              " ['donald',\n",
              "  'trump',\n",
              "  'a',\n",
              "  'failli',\n",
              "  'communauté',\n",
              "  'hispanique',\n",
              "  'encore',\n",
              "  'encore',\n",
              "  'a',\n",
              "  'dit',\n",
              "  'joe',\n",
              "  'biden',\n",
              "  'lors',\n",
              "  'événement',\n",
              "  'kissimmee',\n",
              "  'coeur',\n",
              "  'grandissante',\n",
              "  'communauté',\n",
              "  'portoricaine'],\n",
              " 0.7777777777777778)"
            ]
          },
          "metadata": {
            "tags": []
          },
          "execution_count": 201
        }
      ]
    },
    {
      "cell_type": "markdown",
      "metadata": {
        "id": "gAam_hygVIKs",
        "colab_type": "text"
      },
      "source": [
        "# Zipf's Law"
      ]
    },
    {
      "cell_type": "markdown",
      "metadata": {
        "id": "aYFmR4-WcGVE",
        "colab_type": "text"
      },
      "source": [
        "Zipf's law was originally formulated in terms of quantitative linguistics, stating that given some corpus of natural language utterances, the frequency of any word is inversely proportional to its rank in the frequency table"
      ]
    },
    {
      "cell_type": "code",
      "metadata": {
        "id": "TqUhcFaaVoSA",
        "colab_type": "code",
        "colab": {}
      },
      "source": [
        "from operator import itemgetter\n",
        "import matplotlib.pyplot as plt\n",
        "\n",
        "\n",
        "def zipf_law(article):\n",
        "  result = []\n",
        "  frequency = {}\n",
        "  for sentence in article:\n",
        "    for word in sentence:\n",
        "      count = frequency.get(word, 0)\n",
        "      frequency[word] = count + 1\n",
        "\n",
        "  lists = sorted(frequency.items(), key = lambda kv: kv[1], reverse = True) # sorted by key, return a list of tuples\n",
        "  x, y = zip(*lists) # unpack a list of pairs into two tuples\n",
        "\n",
        "  plt.plot(y)\n",
        "  plt.tick_params(\n",
        "    axis='x',          # changes apply to the x-axis\n",
        "    which='both',      # both major and minor ticks are affected\n",
        "    bottom=False,      # ticks along the bottom edge are off\n",
        "    top=False,         # ticks along the top edge are off\n",
        "    labelbottom=False)\n",
        "  plt.title(\"Zipf's law of the article\")\n",
        "  plt.show()"
      ],
      "execution_count": null,
      "outputs": []
    },
    {
      "cell_type": "code",
      "metadata": {
        "id": "cidmgEXyc_Bd",
        "colab_type": "code",
        "colab": {}
      },
      "source": [
        ""
      ],
      "execution_count": null,
      "outputs": []
    },
    {
      "cell_type": "code",
      "metadata": {
        "id": "GAya4LzBWLWo",
        "colab_type": "code",
        "colab": {
          "base_uri": "https://localhost:8080/",
          "height": 264
        },
        "outputId": "f43708e1-40ef-4208-c595-466a40c6795e"
      },
      "source": [
        "zipf_law(article_one)"
      ],
      "execution_count": null,
      "outputs": [
        {
          "output_type": "display_data",
          "data": {
            "image/png": "[encoded data removed]",
            "text/plain": [
              "<Figure size 432x288 with 1 Axes>"
            ]
          },
          "metadata": {
            "tags": [],
            "needs_background": "light"
          }
        }
      ]
    },
    {
      "cell_type": "code",
      "metadata": {
        "id": "ktClbnuWbIYj",
        "colab_type": "code",
        "colab": {
          "base_uri": "https://localhost:8080/",
          "height": 264
        },
        "outputId": "08d05fc6-abd4-4728-ad3e-5bb2427ac4b4"
      },
      "source": [
        "zipf_law(article_two)"
      ],
      "execution_count": null,
      "outputs": [
        {
          "output_type": "display_data",
          "data": {
            "image/png": "[encoded data removed]",
            "text/plain": [
              "<Figure size 432x288 with 1 Axes>"
            ]
          },
          "metadata": {
            "tags": [],
            "needs_background": "light"
          }
        }
      ]
    },
    {
      "cell_type": "code",
      "metadata": {
        "id": "8U-upioebNbv",
        "colab_type": "code",
        "colab": {
          "base_uri": "https://localhost:8080/",
          "height": 264
        },
        "outputId": "4eaf2340-c132-40f0-fe05-fbad8ec6594c"
      },
      "source": [
        "zipf_law(article_three)"
      ],
      "execution_count": null,
      "outputs": [
        {
          "output_type": "display_data",
          "data": {
            "image/png": "[encoded data removed]",
            "text/plain": [
              "<Figure size 432x288 with 1 Axes>"
            ]
          },
          "metadata": {
            "tags": [],
            "needs_background": "light"
          }
        }
      ]
    }
  ]
}